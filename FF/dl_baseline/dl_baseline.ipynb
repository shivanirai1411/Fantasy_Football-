{
  "nbformat": 4,
  "nbformat_minor": 0,
  "metadata": {
    "colab": {
      "name": "dl_baseline.ipynb",
      "provenance": [],
      "collapsed_sections": [],
      "machine_shape": "hm"
    },
    "kernelspec": {
      "name": "python3",
      "display_name": "Python 3"
    },
    "accelerator": "GPU"
  },
  "cells": [
    {
      "cell_type": "code",
      "metadata": {
        "id": "dI1YzqyEUznL",
        "colab_type": "code",
        "colab": {}
      },
      "source": [
        "\"\"\"\n",
        "This notebook has two functions of note, predict and compute score:\n",
        "\n",
        "(squad, candidates, captain, vice_captain, priorities) = predict(2019, 1)\n",
        "compute_score(squad, candidates, captain, vice_captain, priorities, 2019, 1)\n",
        "\n",
        "You might want to use GPU hardware acceleration. It takes about 10 minutes to\n",
        "train the model.\n",
        "\n",
        "Predict has more options; please see the predict package at\n",
        "./fpl_prediction/dl_baseline/predict for more details, especially\n",
        "the predict.py module\n",
        "\"\"\""
      ],
      "execution_count": 0,
      "outputs": []
    },
    {
      "cell_type": "code",
      "metadata": {
        "id": "rKb3Kbc_Rha6",
        "colab_type": "code",
        "colab": {}
      },
      "source": [
        "import os\n",
        "import sys\n",
        "!pip install pulp\n",
        "\n",
        "if not os.path.isdir(\"./fpl_prediction/\"):\n",
        "  !git clone --recurse-submodules https://github.com/SolomonAduolMaina/fpl_prediction\n",
        "\n",
        "sys.path.insert(0, os.path.abspath('./fpl_prediction/dl_baseline'))\n",
        "from predict.predict import predict, compute_score\n",
        "\n",
        "(squad, candidates, captain, vice_captain, priorities) = predict(2019, 1, EPOCHS=1)\n",
        "compute_score(squad, candidates, captain, vice_captain, priorities, 2019, 1)"
      ],
      "execution_count": 0,
      "outputs": []
    }
  ]
}